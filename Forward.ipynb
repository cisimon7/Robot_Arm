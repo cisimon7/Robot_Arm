{
 "cells": [
  {
   "cell_type": "code",
   "execution_count": 1,
   "metadata": {
    "collapsed": true
   },
   "outputs": [],
   "source": [
    "from utils import *\n",
    "from sympy import symbols, trigsimp, lambdify, diff, init_printing, eye\n",
    "from numpy import linalg, cos, sin, arctan2, log\n",
    "init_printing(use_unicode=True)"
   ]
  },
  {
   "cell_type": "code",
   "execution_count": 2,
   "outputs": [],
   "source": [
    "# Joint parameters declaration\n",
    "q1, q2, q3, q4, q5 = symbols(\"q1 q2 q3 q4 q5\", real=True)\n",
    "\n",
    "# Guesses for link lengths\n",
    "l1, l2, l3, l4, l5 = 1, 1, 1, 1, 1"
   ],
   "metadata": {
    "collapsed": false,
    "pycharm": {
     "name": "#%%\n"
    }
   }
  },
  {
   "cell_type": "code",
   "execution_count": 3,
   "outputs": [
    {
     "data": {
      "text/plain": "⎡                                (sin(q₂)⋅sin(q₄) - sin(q₃)⋅cos(q₂)⋅cos(q₄))⋅s\n⎢                                                                             \n⎢((-sin(q₁)⋅sin(q₂)⋅sin(q₃) + cos(q₁)⋅cos(q₃))⋅cos(q₄) - sin(q₁)⋅sin(q₄)⋅cos(q\n⎢                                                                             \n⎢((sin(q₁)⋅cos(q₃) + sin(q₂)⋅sin(q₃)⋅cos(q₁))⋅cos(q₄) + sin(q₄)⋅cos(q₁)⋅cos(q₂\n⎢                                                                             \n⎣                                                                      0      \n\nin(q₅) + cos(q₂)⋅cos(q₃)⋅cos(q₅)                                              \n                                                                              \n₂))⋅sin(q₅) + (sin(q₁)⋅sin(q₂)⋅cos(q₃) + sin(q₃)⋅cos(q₁))⋅cos(q₅)  ((-sin(q₁)⋅\n                                                                              \n))⋅sin(q₅) + (sin(q₁)⋅sin(q₃) - sin(q₂)⋅cos(q₁)⋅cos(q₃))⋅cos(q₅)   ((sin(q₁)⋅c\n                                                                              \n                                                                              \n\n                     (sin(q₂)⋅sin(q₄) - sin(q₃)⋅cos(q₂)⋅cos(q₄))⋅cos(q₅) - sin\n                                                                              \nsin(q₂)⋅sin(q₃) + cos(q₁)⋅cos(q₃))⋅cos(q₄) - sin(q₁)⋅sin(q₄)⋅cos(q₂))⋅cos(q₅) \n                                                                              \nos(q₃) + sin(q₂)⋅sin(q₃)⋅cos(q₁))⋅cos(q₄) + sin(q₄)⋅cos(q₁)⋅cos(q₂))⋅cos(q₅) -\n                                                                              \n                                                           0                  \n\n(q₅)⋅cos(q₂)⋅cos(q₃)                                                      sin(\n                                                                              \n- (sin(q₁)⋅sin(q₂)⋅cos(q₃) + sin(q₃)⋅cos(q₁))⋅sin(q₅)  -(-sin(q₁)⋅sin(q₂)⋅sin(\n                                                                              \n (sin(q₁)⋅sin(q₃) - sin(q₂)⋅cos(q₁)⋅cos(q₃))⋅sin(q₅)   -(sin(q₁)⋅cos(q₃) + sin\n                                                                              \n                                                                              \n\nq₂)⋅cos(q₄) + sin(q₃)⋅sin(q₄)⋅cos(q₂)                                         \n                                                                              \nq₃) + cos(q₁)⋅cos(q₃))⋅sin(q₄) - sin(q₁)⋅cos(q₂)⋅cos(q₄)  -2⋅(-sin(q₁)⋅sin(q₂)\n                                                                              \n(q₂)⋅sin(q₃)⋅cos(q₁))⋅sin(q₄) + cos(q₁)⋅cos(q₂)⋅cos(q₄)   -2⋅(sin(q₁)⋅cos(q₃) \n                                                                              \n                0                                                             \n\n 2⋅sin(q₂)⋅cos(q₄) + 2⋅sin(q₂) + 2⋅sin(q₃)⋅sin(q₄)⋅cos(q₂) + 1                \n                                                                              \n⋅sin(q₃) + cos(q₁)⋅cos(q₃))⋅sin(q₄) - 2⋅sin(q₁)⋅cos(q₂)⋅cos(q₄) - 2⋅sin(q₁)⋅co\n                                                                              \n+ sin(q₂)⋅sin(q₃)⋅cos(q₁))⋅sin(q₄) + 2⋅cos(q₁)⋅cos(q₂)⋅cos(q₄) + 2⋅cos(q₁)⋅cos\n                                                                              \n                               1                                              \n\n     ⎤\n     ⎥\ns(q₂)⎥\n     ⎥\n(q₂) ⎥\n     ⎥\n     ⎦",
      "text/latex": "$\\displaystyle \\left[\\begin{matrix}\\left(\\sin{\\left(q_{2} \\right)} \\sin{\\left(q_{4} \\right)} - \\sin{\\left(q_{3} \\right)} \\cos{\\left(q_{2} \\right)} \\cos{\\left(q_{4} \\right)}\\right) \\sin{\\left(q_{5} \\right)} + \\cos{\\left(q_{2} \\right)} \\cos{\\left(q_{3} \\right)} \\cos{\\left(q_{5} \\right)} & \\left(\\sin{\\left(q_{2} \\right)} \\sin{\\left(q_{4} \\right)} - \\sin{\\left(q_{3} \\right)} \\cos{\\left(q_{2} \\right)} \\cos{\\left(q_{4} \\right)}\\right) \\cos{\\left(q_{5} \\right)} - \\sin{\\left(q_{5} \\right)} \\cos{\\left(q_{2} \\right)} \\cos{\\left(q_{3} \\right)} & \\sin{\\left(q_{2} \\right)} \\cos{\\left(q_{4} \\right)} + \\sin{\\left(q_{3} \\right)} \\sin{\\left(q_{4} \\right)} \\cos{\\left(q_{2} \\right)} & 2 \\sin{\\left(q_{2} \\right)} \\cos{\\left(q_{4} \\right)} + 2 \\sin{\\left(q_{2} \\right)} + 2 \\sin{\\left(q_{3} \\right)} \\sin{\\left(q_{4} \\right)} \\cos{\\left(q_{2} \\right)} + 1\\\\\\left(\\left(- \\sin{\\left(q_{1} \\right)} \\sin{\\left(q_{2} \\right)} \\sin{\\left(q_{3} \\right)} + \\cos{\\left(q_{1} \\right)} \\cos{\\left(q_{3} \\right)}\\right) \\cos{\\left(q_{4} \\right)} - \\sin{\\left(q_{1} \\right)} \\sin{\\left(q_{4} \\right)} \\cos{\\left(q_{2} \\right)}\\right) \\sin{\\left(q_{5} \\right)} + \\left(\\sin{\\left(q_{1} \\right)} \\sin{\\left(q_{2} \\right)} \\cos{\\left(q_{3} \\right)} + \\sin{\\left(q_{3} \\right)} \\cos{\\left(q_{1} \\right)}\\right) \\cos{\\left(q_{5} \\right)} & \\left(\\left(- \\sin{\\left(q_{1} \\right)} \\sin{\\left(q_{2} \\right)} \\sin{\\left(q_{3} \\right)} + \\cos{\\left(q_{1} \\right)} \\cos{\\left(q_{3} \\right)}\\right) \\cos{\\left(q_{4} \\right)} - \\sin{\\left(q_{1} \\right)} \\sin{\\left(q_{4} \\right)} \\cos{\\left(q_{2} \\right)}\\right) \\cos{\\left(q_{5} \\right)} - \\left(\\sin{\\left(q_{1} \\right)} \\sin{\\left(q_{2} \\right)} \\cos{\\left(q_{3} \\right)} + \\sin{\\left(q_{3} \\right)} \\cos{\\left(q_{1} \\right)}\\right) \\sin{\\left(q_{5} \\right)} & - \\left(- \\sin{\\left(q_{1} \\right)} \\sin{\\left(q_{2} \\right)} \\sin{\\left(q_{3} \\right)} + \\cos{\\left(q_{1} \\right)} \\cos{\\left(q_{3} \\right)}\\right) \\sin{\\left(q_{4} \\right)} - \\sin{\\left(q_{1} \\right)} \\cos{\\left(q_{2} \\right)} \\cos{\\left(q_{4} \\right)} & - 2 \\left(- \\sin{\\left(q_{1} \\right)} \\sin{\\left(q_{2} \\right)} \\sin{\\left(q_{3} \\right)} + \\cos{\\left(q_{1} \\right)} \\cos{\\left(q_{3} \\right)}\\right) \\sin{\\left(q_{4} \\right)} - 2 \\sin{\\left(q_{1} \\right)} \\cos{\\left(q_{2} \\right)} \\cos{\\left(q_{4} \\right)} - 2 \\sin{\\left(q_{1} \\right)} \\cos{\\left(q_{2} \\right)}\\\\\\left(\\left(\\sin{\\left(q_{1} \\right)} \\cos{\\left(q_{3} \\right)} + \\sin{\\left(q_{2} \\right)} \\sin{\\left(q_{3} \\right)} \\cos{\\left(q_{1} \\right)}\\right) \\cos{\\left(q_{4} \\right)} + \\sin{\\left(q_{4} \\right)} \\cos{\\left(q_{1} \\right)} \\cos{\\left(q_{2} \\right)}\\right) \\sin{\\left(q_{5} \\right)} + \\left(\\sin{\\left(q_{1} \\right)} \\sin{\\left(q_{3} \\right)} - \\sin{\\left(q_{2} \\right)} \\cos{\\left(q_{1} \\right)} \\cos{\\left(q_{3} \\right)}\\right) \\cos{\\left(q_{5} \\right)} & \\left(\\left(\\sin{\\left(q_{1} \\right)} \\cos{\\left(q_{3} \\right)} + \\sin{\\left(q_{2} \\right)} \\sin{\\left(q_{3} \\right)} \\cos{\\left(q_{1} \\right)}\\right) \\cos{\\left(q_{4} \\right)} + \\sin{\\left(q_{4} \\right)} \\cos{\\left(q_{1} \\right)} \\cos{\\left(q_{2} \\right)}\\right) \\cos{\\left(q_{5} \\right)} - \\left(\\sin{\\left(q_{1} \\right)} \\sin{\\left(q_{3} \\right)} - \\sin{\\left(q_{2} \\right)} \\cos{\\left(q_{1} \\right)} \\cos{\\left(q_{3} \\right)}\\right) \\sin{\\left(q_{5} \\right)} & - \\left(\\sin{\\left(q_{1} \\right)} \\cos{\\left(q_{3} \\right)} + \\sin{\\left(q_{2} \\right)} \\sin{\\left(q_{3} \\right)} \\cos{\\left(q_{1} \\right)}\\right) \\sin{\\left(q_{4} \\right)} + \\cos{\\left(q_{1} \\right)} \\cos{\\left(q_{2} \\right)} \\cos{\\left(q_{4} \\right)} & - 2 \\left(\\sin{\\left(q_{1} \\right)} \\cos{\\left(q_{3} \\right)} + \\sin{\\left(q_{2} \\right)} \\sin{\\left(q_{3} \\right)} \\cos{\\left(q_{1} \\right)}\\right) \\sin{\\left(q_{4} \\right)} + 2 \\cos{\\left(q_{1} \\right)} \\cos{\\left(q_{2} \\right)} \\cos{\\left(q_{4} \\right)} + 2 \\cos{\\left(q_{1} \\right)} \\cos{\\left(q_{2} \\right)}\\\\0 & 0 & 0 & 1\\end{matrix}\\right]$"
     },
     "execution_count": 3,
     "metadata": {},
     "output_type": "execute_result"
    }
   ],
   "source": [
    "# Forward Kinematics\n",
    "H = Rx(q1)*Tx(l1)*Ry(q2)*Tz(l2)*Rz(q3)*Tz(l3)*Rx(q4)*Tz(l4)*Rz(q5)*Tz(l5)\n",
    "H = trigsimp(H)\n",
    "H"
   ],
   "metadata": {
    "collapsed": false,
    "pycharm": {
     "name": "#%%\n"
    }
   }
  },
  {
   "cell_type": "code",
   "execution_count": 4,
   "outputs": [
    {
     "data": {
      "text/plain": "⎡                                (sin(q₂)⋅sin(q₄) - sin(q₃)⋅cos(q₂)⋅cos(q₄))⋅s\n⎢                                                                             \n⎢((-sin(q₁)⋅sin(q₂)⋅sin(q₃) + cos(q₁)⋅cos(q₃))⋅cos(q₄) - sin(q₁)⋅sin(q₄)⋅cos(q\n⎢                                                                             \n⎣((sin(q₁)⋅cos(q₃) + sin(q₂)⋅sin(q₃)⋅cos(q₁))⋅cos(q₄) + sin(q₄)⋅cos(q₁)⋅cos(q₂\n\nin(q₅) + cos(q₂)⋅cos(q₃)⋅cos(q₅)                                              \n                                                                              \n₂))⋅sin(q₅) + (sin(q₁)⋅sin(q₂)⋅cos(q₃) + sin(q₃)⋅cos(q₁))⋅cos(q₅)  ((-sin(q₁)⋅\n                                                                              \n))⋅sin(q₅) + (sin(q₁)⋅sin(q₃) - sin(q₂)⋅cos(q₁)⋅cos(q₃))⋅cos(q₅)   ((sin(q₁)⋅c\n\n                     (sin(q₂)⋅sin(q₄) - sin(q₃)⋅cos(q₂)⋅cos(q₄))⋅cos(q₅) - sin\n                                                                              \nsin(q₂)⋅sin(q₃) + cos(q₁)⋅cos(q₃))⋅cos(q₄) - sin(q₁)⋅sin(q₄)⋅cos(q₂))⋅cos(q₅) \n                                                                              \nos(q₃) + sin(q₂)⋅sin(q₃)⋅cos(q₁))⋅cos(q₄) + sin(q₄)⋅cos(q₁)⋅cos(q₂))⋅cos(q₅) -\n\n(q₅)⋅cos(q₂)⋅cos(q₃)                                                      sin(\n                                                                              \n- (sin(q₁)⋅sin(q₂)⋅cos(q₃) + sin(q₃)⋅cos(q₁))⋅sin(q₅)  -(-sin(q₁)⋅sin(q₂)⋅sin(\n                                                                              \n (sin(q₁)⋅sin(q₃) - sin(q₂)⋅cos(q₁)⋅cos(q₃))⋅sin(q₅)   -(sin(q₁)⋅cos(q₃) + sin\n\nq₂)⋅cos(q₄) + sin(q₃)⋅sin(q₄)⋅cos(q₂)                   ⎤\n                                                        ⎥\nq₃) + cos(q₁)⋅cos(q₃))⋅sin(q₄) - sin(q₁)⋅cos(q₂)⋅cos(q₄)⎥\n                                                        ⎥\n(q₂)⋅sin(q₃)⋅cos(q₁))⋅sin(q₄) + cos(q₁)⋅cos(q₂)⋅cos(q₄) ⎦",
      "text/latex": "$\\displaystyle \\left[\\begin{matrix}\\left(\\sin{\\left(q_{2} \\right)} \\sin{\\left(q_{4} \\right)} - \\sin{\\left(q_{3} \\right)} \\cos{\\left(q_{2} \\right)} \\cos{\\left(q_{4} \\right)}\\right) \\sin{\\left(q_{5} \\right)} + \\cos{\\left(q_{2} \\right)} \\cos{\\left(q_{3} \\right)} \\cos{\\left(q_{5} \\right)} & \\left(\\sin{\\left(q_{2} \\right)} \\sin{\\left(q_{4} \\right)} - \\sin{\\left(q_{3} \\right)} \\cos{\\left(q_{2} \\right)} \\cos{\\left(q_{4} \\right)}\\right) \\cos{\\left(q_{5} \\right)} - \\sin{\\left(q_{5} \\right)} \\cos{\\left(q_{2} \\right)} \\cos{\\left(q_{3} \\right)} & \\sin{\\left(q_{2} \\right)} \\cos{\\left(q_{4} \\right)} + \\sin{\\left(q_{3} \\right)} \\sin{\\left(q_{4} \\right)} \\cos{\\left(q_{2} \\right)}\\\\\\left(\\left(- \\sin{\\left(q_{1} \\right)} \\sin{\\left(q_{2} \\right)} \\sin{\\left(q_{3} \\right)} + \\cos{\\left(q_{1} \\right)} \\cos{\\left(q_{3} \\right)}\\right) \\cos{\\left(q_{4} \\right)} - \\sin{\\left(q_{1} \\right)} \\sin{\\left(q_{4} \\right)} \\cos{\\left(q_{2} \\right)}\\right) \\sin{\\left(q_{5} \\right)} + \\left(\\sin{\\left(q_{1} \\right)} \\sin{\\left(q_{2} \\right)} \\cos{\\left(q_{3} \\right)} + \\sin{\\left(q_{3} \\right)} \\cos{\\left(q_{1} \\right)}\\right) \\cos{\\left(q_{5} \\right)} & \\left(\\left(- \\sin{\\left(q_{1} \\right)} \\sin{\\left(q_{2} \\right)} \\sin{\\left(q_{3} \\right)} + \\cos{\\left(q_{1} \\right)} \\cos{\\left(q_{3} \\right)}\\right) \\cos{\\left(q_{4} \\right)} - \\sin{\\left(q_{1} \\right)} \\sin{\\left(q_{4} \\right)} \\cos{\\left(q_{2} \\right)}\\right) \\cos{\\left(q_{5} \\right)} - \\left(\\sin{\\left(q_{1} \\right)} \\sin{\\left(q_{2} \\right)} \\cos{\\left(q_{3} \\right)} + \\sin{\\left(q_{3} \\right)} \\cos{\\left(q_{1} \\right)}\\right) \\sin{\\left(q_{5} \\right)} & - \\left(- \\sin{\\left(q_{1} \\right)} \\sin{\\left(q_{2} \\right)} \\sin{\\left(q_{3} \\right)} + \\cos{\\left(q_{1} \\right)} \\cos{\\left(q_{3} \\right)}\\right) \\sin{\\left(q_{4} \\right)} - \\sin{\\left(q_{1} \\right)} \\cos{\\left(q_{2} \\right)} \\cos{\\left(q_{4} \\right)}\\\\\\left(\\left(\\sin{\\left(q_{1} \\right)} \\cos{\\left(q_{3} \\right)} + \\sin{\\left(q_{2} \\right)} \\sin{\\left(q_{3} \\right)} \\cos{\\left(q_{1} \\right)}\\right) \\cos{\\left(q_{4} \\right)} + \\sin{\\left(q_{4} \\right)} \\cos{\\left(q_{1} \\right)} \\cos{\\left(q_{2} \\right)}\\right) \\sin{\\left(q_{5} \\right)} + \\left(\\sin{\\left(q_{1} \\right)} \\sin{\\left(q_{3} \\right)} - \\sin{\\left(q_{2} \\right)} \\cos{\\left(q_{1} \\right)} \\cos{\\left(q_{3} \\right)}\\right) \\cos{\\left(q_{5} \\right)} & \\left(\\left(\\sin{\\left(q_{1} \\right)} \\cos{\\left(q_{3} \\right)} + \\sin{\\left(q_{2} \\right)} \\sin{\\left(q_{3} \\right)} \\cos{\\left(q_{1} \\right)}\\right) \\cos{\\left(q_{4} \\right)} + \\sin{\\left(q_{4} \\right)} \\cos{\\left(q_{1} \\right)} \\cos{\\left(q_{2} \\right)}\\right) \\cos{\\left(q_{5} \\right)} - \\left(\\sin{\\left(q_{1} \\right)} \\sin{\\left(q_{3} \\right)} - \\sin{\\left(q_{2} \\right)} \\cos{\\left(q_{1} \\right)} \\cos{\\left(q_{3} \\right)}\\right) \\sin{\\left(q_{5} \\right)} & - \\left(\\sin{\\left(q_{1} \\right)} \\cos{\\left(q_{3} \\right)} + \\sin{\\left(q_{2} \\right)} \\sin{\\left(q_{3} \\right)} \\cos{\\left(q_{1} \\right)}\\right) \\sin{\\left(q_{4} \\right)} + \\cos{\\left(q_{1} \\right)} \\cos{\\left(q_{2} \\right)} \\cos{\\left(q_{4} \\right)}\\end{matrix}\\right]$"
     },
     "execution_count": 4,
     "metadata": {},
     "output_type": "execute_result"
    }
   ],
   "source": [
    "# Rotation Matrix\n",
    "R = H[0:3, :-1]\n",
    "R"
   ],
   "metadata": {
    "collapsed": false,
    "pycharm": {
     "name": "#%%\n"
    }
   }
  },
  {
   "cell_type": "code",
   "execution_count": 5,
   "outputs": [
    {
     "data": {
      "text/plain": "⎡                     2⋅sin(q₂)⋅cos(q₄) + 2⋅sin(q₂) + 2⋅sin(q₃)⋅sin(q₄)⋅cos(q₂\n⎢                                                                             \n⎢-2⋅(-sin(q₁)⋅sin(q₂)⋅sin(q₃) + cos(q₁)⋅cos(q₃))⋅sin(q₄) - 2⋅sin(q₁)⋅cos(q₂)⋅c\n⎢                                                                             \n⎣-2⋅(sin(q₁)⋅cos(q₃) + sin(q₂)⋅sin(q₃)⋅cos(q₁))⋅sin(q₄) + 2⋅cos(q₁)⋅cos(q₂)⋅co\n\n) + 1                     ⎤\n                          ⎥\nos(q₄) - 2⋅sin(q₁)⋅cos(q₂)⎥\n                          ⎥\ns(q₄) + 2⋅cos(q₁)⋅cos(q₂) ⎦",
      "text/latex": "$\\displaystyle \\left[\\begin{matrix}2 \\sin{\\left(q_{2} \\right)} \\cos{\\left(q_{4} \\right)} + 2 \\sin{\\left(q_{2} \\right)} + 2 \\sin{\\left(q_{3} \\right)} \\sin{\\left(q_{4} \\right)} \\cos{\\left(q_{2} \\right)} + 1\\\\- 2 \\left(- \\sin{\\left(q_{1} \\right)} \\sin{\\left(q_{2} \\right)} \\sin{\\left(q_{3} \\right)} + \\cos{\\left(q_{1} \\right)} \\cos{\\left(q_{3} \\right)}\\right) \\sin{\\left(q_{4} \\right)} - 2 \\sin{\\left(q_{1} \\right)} \\cos{\\left(q_{2} \\right)} \\cos{\\left(q_{4} \\right)} - 2 \\sin{\\left(q_{1} \\right)} \\cos{\\left(q_{2} \\right)}\\\\- 2 \\left(\\sin{\\left(q_{1} \\right)} \\cos{\\left(q_{3} \\right)} + \\sin{\\left(q_{2} \\right)} \\sin{\\left(q_{3} \\right)} \\cos{\\left(q_{1} \\right)}\\right) \\sin{\\left(q_{4} \\right)} + 2 \\cos{\\left(q_{1} \\right)} \\cos{\\left(q_{2} \\right)} \\cos{\\left(q_{4} \\right)} + 2 \\cos{\\left(q_{1} \\right)} \\cos{\\left(q_{2} \\right)}\\end{matrix}\\right]$"
     },
     "execution_count": 5,
     "metadata": {},
     "output_type": "execute_result"
    }
   ],
   "source": [
    "# Translational Matrix\n",
    "T = H[0:3, -1]\n",
    "T"
   ],
   "metadata": {
    "collapsed": false,
    "pycharm": {
     "name": "#%%\n"
    }
   }
  },
  {
   "cell_type": "code",
   "execution_count": null,
   "outputs": [],
   "source": [],
   "metadata": {
    "collapsed": false,
    "pycharm": {
     "name": "#%%\n"
    }
   }
  }
 ],
 "metadata": {
  "kernelspec": {
   "display_name": "Python 3",
   "language": "python",
   "name": "python3"
  },
  "language_info": {
   "codemirror_mode": {
    "name": "ipython",
    "version": 2
   },
   "file_extension": ".py",
   "mimetype": "text/x-python",
   "name": "python",
   "nbconvert_exporter": "python",
   "pygments_lexer": "ipython2",
   "version": "2.7.6"
  }
 },
 "nbformat": 4,
 "nbformat_minor": 0
}