{
 "cells": [
  {
   "cell_type": "code",
   "execution_count": 1,
   "metadata": {
    "collapsed": true
   },
   "outputs": [],
   "source": [
    "from utils import *\n",
    "from sympy import symbols, trigsimp, lambdify, diff, init_printing, eye\n",
    "from numpy import linalg, cos, sin, arctan2, log\n",
    "init_printing(use_unicode=True)"
   ]
  },
  {
   "cell_type": "code",
   "execution_count": 2,
   "outputs": [],
   "source": [
    "# Joint parameters declaration\n",
    "q1, q2, q3, q4, q5 = symbols(\"q1 q2 q3 q4 q5\", real=True)\n",
    "\n",
    "# Guesses for link lengths\n",
    "l1, l2, l3, l4, l5 = 1, 1, 1, 1, 1"
   ],
   "metadata": {
    "collapsed": false,
    "pycharm": {
     "name": "#%%\n"
    }
   }
  },
  {
   "cell_type": "code",
   "execution_count": 3,
   "outputs": [
    {
     "data": {
      "text/plain": "⎡                                (sin(q₂)⋅sin(q₄) - sin(q₃)⋅cos(q₂)⋅cos(q₄))⋅s\n⎢                                                                             \n⎢((-sin(q₁)⋅sin(q₂)⋅sin(q₃) + cos(q₁)⋅cos(q₃))⋅cos(q₄) - sin(q₁)⋅sin(q₄)⋅cos(q\n⎢                                                                             \n⎢((sin(q₁)⋅cos(q₃) + sin(q₂)⋅sin(q₃)⋅cos(q₁))⋅cos(q₄) + sin(q₄)⋅cos(q₁)⋅cos(q₂\n⎢                                                                             \n⎣                                                                      0      \n\nin(q₅) + cos(q₂)⋅cos(q₃)⋅cos(q₅)                                              \n                                                                              \n₂))⋅sin(q₅) + (sin(q₁)⋅sin(q₂)⋅cos(q₃) + sin(q₃)⋅cos(q₁))⋅cos(q₅)  ((-sin(q₁)⋅\n                                                                              \n))⋅sin(q₅) + (sin(q₁)⋅sin(q₃) - sin(q₂)⋅cos(q₁)⋅cos(q₃))⋅cos(q₅)   ((sin(q₁)⋅c\n                                                                              \n                                                                              \n\n                     (sin(q₂)⋅sin(q₄) - sin(q₃)⋅cos(q₂)⋅cos(q₄))⋅cos(q₅) - sin\n                                                                              \nsin(q₂)⋅sin(q₃) + cos(q₁)⋅cos(q₃))⋅cos(q₄) - sin(q₁)⋅sin(q₄)⋅cos(q₂))⋅cos(q₅) \n                                                                              \nos(q₃) + sin(q₂)⋅sin(q₃)⋅cos(q₁))⋅cos(q₄) + sin(q₄)⋅cos(q₁)⋅cos(q₂))⋅cos(q₅) -\n                                                                              \n                                                           0                  \n\n(q₅)⋅cos(q₂)⋅cos(q₃)                                                      sin(\n                                                                              \n- (sin(q₁)⋅sin(q₂)⋅cos(q₃) + sin(q₃)⋅cos(q₁))⋅sin(q₅)  -(-sin(q₁)⋅sin(q₂)⋅sin(\n                                                                              \n (sin(q₁)⋅sin(q₃) - sin(q₂)⋅cos(q₁)⋅cos(q₃))⋅sin(q₅)   -(sin(q₁)⋅cos(q₃) + sin\n                                                                              \n                                                                              \n\nq₂)⋅cos(q₄) + sin(q₃)⋅sin(q₄)⋅cos(q₂)                                         \n                                                                              \nq₃) + cos(q₁)⋅cos(q₃))⋅sin(q₄) - sin(q₁)⋅cos(q₂)⋅cos(q₄)  -l₂⋅sin(q₁)⋅cos(q₂) \n                                                                              \n(q₂)⋅sin(q₃)⋅cos(q₁))⋅sin(q₄) + cos(q₁)⋅cos(q₂)⋅cos(q₄)    l₂⋅cos(q₁)⋅cos(q₂) \n                                                                              \n                0                                                             \n\n                        l₁ + l₂⋅sin(q₂) + l₃⋅sin(q₂) + l₄⋅(sin(q₂)⋅cos(q₄) + s\n                                                                              \n- l₃⋅sin(q₁)⋅cos(q₂) + l₄⋅(-(-sin(q₁)⋅sin(q₂)⋅sin(q₃) + cos(q₁)⋅cos(q₃))⋅sin(q\n                                                                              \n+ l₃⋅cos(q₁)⋅cos(q₂) + l₄⋅(-(sin(q₁)⋅cos(q₃) + sin(q₂)⋅sin(q₃)⋅cos(q₁))⋅sin(q₄\n                                                                              \n                                                                              \n\nin(q₃)⋅sin(q₄)⋅cos(q₂)) + l₅⋅(sin(q₂)⋅cos(q₄) + sin(q₃)⋅sin(q₄)⋅cos(q₂))      \n                                                                              \n₄) - sin(q₁)⋅cos(q₂)⋅cos(q₄)) + l₅⋅(-(-sin(q₁)⋅sin(q₂)⋅sin(q₃) + cos(q₁)⋅cos(q\n                                                                              \n) + cos(q₁)⋅cos(q₂)⋅cos(q₄)) + l₅⋅(-(sin(q₁)⋅cos(q₃) + sin(q₂)⋅sin(q₃)⋅cos(q₁)\n                                                                              \n        1                                                                     \n\n                                      ⎤\n                                      ⎥\n₃))⋅sin(q₄) - sin(q₁)⋅cos(q₂)⋅cos(q₄))⎥\n                                      ⎥\n)⋅sin(q₄) + cos(q₁)⋅cos(q₂)⋅cos(q₄))  ⎥\n                                      ⎥\n                                      ⎦",
      "text/latex": "$\\displaystyle \\left[\\begin{matrix}\\left(\\sin{\\left(q_{2} \\right)} \\sin{\\left(q_{4} \\right)} - \\sin{\\left(q_{3} \\right)} \\cos{\\left(q_{2} \\right)} \\cos{\\left(q_{4} \\right)}\\right) \\sin{\\left(q_{5} \\right)} + \\cos{\\left(q_{2} \\right)} \\cos{\\left(q_{3} \\right)} \\cos{\\left(q_{5} \\right)} & \\left(\\sin{\\left(q_{2} \\right)} \\sin{\\left(q_{4} \\right)} - \\sin{\\left(q_{3} \\right)} \\cos{\\left(q_{2} \\right)} \\cos{\\left(q_{4} \\right)}\\right) \\cos{\\left(q_{5} \\right)} - \\sin{\\left(q_{5} \\right)} \\cos{\\left(q_{2} \\right)} \\cos{\\left(q_{3} \\right)} & \\sin{\\left(q_{2} \\right)} \\cos{\\left(q_{4} \\right)} + \\sin{\\left(q_{3} \\right)} \\sin{\\left(q_{4} \\right)} \\cos{\\left(q_{2} \\right)} & l_{1} + l_{2} \\sin{\\left(q_{2} \\right)} + l_{3} \\sin{\\left(q_{2} \\right)} + l_{4} \\left(\\sin{\\left(q_{2} \\right)} \\cos{\\left(q_{4} \\right)} + \\sin{\\left(q_{3} \\right)} \\sin{\\left(q_{4} \\right)} \\cos{\\left(q_{2} \\right)}\\right) + l_{5} \\left(\\sin{\\left(q_{2} \\right)} \\cos{\\left(q_{4} \\right)} + \\sin{\\left(q_{3} \\right)} \\sin{\\left(q_{4} \\right)} \\cos{\\left(q_{2} \\right)}\\right)\\\\\\left(\\left(- \\sin{\\left(q_{1} \\right)} \\sin{\\left(q_{2} \\right)} \\sin{\\left(q_{3} \\right)} + \\cos{\\left(q_{1} \\right)} \\cos{\\left(q_{3} \\right)}\\right) \\cos{\\left(q_{4} \\right)} - \\sin{\\left(q_{1} \\right)} \\sin{\\left(q_{4} \\right)} \\cos{\\left(q_{2} \\right)}\\right) \\sin{\\left(q_{5} \\right)} + \\left(\\sin{\\left(q_{1} \\right)} \\sin{\\left(q_{2} \\right)} \\cos{\\left(q_{3} \\right)} + \\sin{\\left(q_{3} \\right)} \\cos{\\left(q_{1} \\right)}\\right) \\cos{\\left(q_{5} \\right)} & \\left(\\left(- \\sin{\\left(q_{1} \\right)} \\sin{\\left(q_{2} \\right)} \\sin{\\left(q_{3} \\right)} + \\cos{\\left(q_{1} \\right)} \\cos{\\left(q_{3} \\right)}\\right) \\cos{\\left(q_{4} \\right)} - \\sin{\\left(q_{1} \\right)} \\sin{\\left(q_{4} \\right)} \\cos{\\left(q_{2} \\right)}\\right) \\cos{\\left(q_{5} \\right)} - \\left(\\sin{\\left(q_{1} \\right)} \\sin{\\left(q_{2} \\right)} \\cos{\\left(q_{3} \\right)} + \\sin{\\left(q_{3} \\right)} \\cos{\\left(q_{1} \\right)}\\right) \\sin{\\left(q_{5} \\right)} & - \\left(- \\sin{\\left(q_{1} \\right)} \\sin{\\left(q_{2} \\right)} \\sin{\\left(q_{3} \\right)} + \\cos{\\left(q_{1} \\right)} \\cos{\\left(q_{3} \\right)}\\right) \\sin{\\left(q_{4} \\right)} - \\sin{\\left(q_{1} \\right)} \\cos{\\left(q_{2} \\right)} \\cos{\\left(q_{4} \\right)} & - l_{2} \\sin{\\left(q_{1} \\right)} \\cos{\\left(q_{2} \\right)} - l_{3} \\sin{\\left(q_{1} \\right)} \\cos{\\left(q_{2} \\right)} + l_{4} \\left(- \\left(- \\sin{\\left(q_{1} \\right)} \\sin{\\left(q_{2} \\right)} \\sin{\\left(q_{3} \\right)} + \\cos{\\left(q_{1} \\right)} \\cos{\\left(q_{3} \\right)}\\right) \\sin{\\left(q_{4} \\right)} - \\sin{\\left(q_{1} \\right)} \\cos{\\left(q_{2} \\right)} \\cos{\\left(q_{4} \\right)}\\right) + l_{5} \\left(- \\left(- \\sin{\\left(q_{1} \\right)} \\sin{\\left(q_{2} \\right)} \\sin{\\left(q_{3} \\right)} + \\cos{\\left(q_{1} \\right)} \\cos{\\left(q_{3} \\right)}\\right) \\sin{\\left(q_{4} \\right)} - \\sin{\\left(q_{1} \\right)} \\cos{\\left(q_{2} \\right)} \\cos{\\left(q_{4} \\right)}\\right)\\\\\\left(\\left(\\sin{\\left(q_{1} \\right)} \\cos{\\left(q_{3} \\right)} + \\sin{\\left(q_{2} \\right)} \\sin{\\left(q_{3} \\right)} \\cos{\\left(q_{1} \\right)}\\right) \\cos{\\left(q_{4} \\right)} + \\sin{\\left(q_{4} \\right)} \\cos{\\left(q_{1} \\right)} \\cos{\\left(q_{2} \\right)}\\right) \\sin{\\left(q_{5} \\right)} + \\left(\\sin{\\left(q_{1} \\right)} \\sin{\\left(q_{3} \\right)} - \\sin{\\left(q_{2} \\right)} \\cos{\\left(q_{1} \\right)} \\cos{\\left(q_{3} \\right)}\\right) \\cos{\\left(q_{5} \\right)} & \\left(\\left(\\sin{\\left(q_{1} \\right)} \\cos{\\left(q_{3} \\right)} + \\sin{\\left(q_{2} \\right)} \\sin{\\left(q_{3} \\right)} \\cos{\\left(q_{1} \\right)}\\right) \\cos{\\left(q_{4} \\right)} + \\sin{\\left(q_{4} \\right)} \\cos{\\left(q_{1} \\right)} \\cos{\\left(q_{2} \\right)}\\right) \\cos{\\left(q_{5} \\right)} - \\left(\\sin{\\left(q_{1} \\right)} \\sin{\\left(q_{3} \\right)} - \\sin{\\left(q_{2} \\right)} \\cos{\\left(q_{1} \\right)} \\cos{\\left(q_{3} \\right)}\\right) \\sin{\\left(q_{5} \\right)} & - \\left(\\sin{\\left(q_{1} \\right)} \\cos{\\left(q_{3} \\right)} + \\sin{\\left(q_{2} \\right)} \\sin{\\left(q_{3} \\right)} \\cos{\\left(q_{1} \\right)}\\right) \\sin{\\left(q_{4} \\right)} + \\cos{\\left(q_{1} \\right)} \\cos{\\left(q_{2} \\right)} \\cos{\\left(q_{4} \\right)} & l_{2} \\cos{\\left(q_{1} \\right)} \\cos{\\left(q_{2} \\right)} + l_{3} \\cos{\\left(q_{1} \\right)} \\cos{\\left(q_{2} \\right)} + l_{4} \\left(- \\left(\\sin{\\left(q_{1} \\right)} \\cos{\\left(q_{3} \\right)} + \\sin{\\left(q_{2} \\right)} \\sin{\\left(q_{3} \\right)} \\cos{\\left(q_{1} \\right)}\\right) \\sin{\\left(q_{4} \\right)} + \\cos{\\left(q_{1} \\right)} \\cos{\\left(q_{2} \\right)} \\cos{\\left(q_{4} \\right)}\\right) + l_{5} \\left(- \\left(\\sin{\\left(q_{1} \\right)} \\cos{\\left(q_{3} \\right)} + \\sin{\\left(q_{2} \\right)} \\sin{\\left(q_{3} \\right)} \\cos{\\left(q_{1} \\right)}\\right) \\sin{\\left(q_{4} \\right)} + \\cos{\\left(q_{1} \\right)} \\cos{\\left(q_{2} \\right)} \\cos{\\left(q_{4} \\right)}\\right)\\\\0 & 0 & 0 & 1\\end{matrix}\\right]$"
     },
     "execution_count": 3,
     "metadata": {},
     "output_type": "execute_result"
    }
   ],
   "source": [
    "# Forward Kinematics\n",
    "H = Rx(q1)*Tx(l1)*Ry(q2)*Tz(l2)*Rz(q3)*Tz(l3)*Rx(q4)*Tz(l4)*Rz(q5)*Tz(l5)\n",
    "H = trigsimp(H)\n",
    "H"
   ],
   "metadata": {
    "collapsed": false,
    "pycharm": {
     "name": "#%%\n"
    }
   }
  },
  {
   "cell_type": "code",
   "execution_count": null,
   "outputs": [],
   "source": [
    "# Rotation Matrix\n",
    "R = H[0:3, :-1]\n",
    "R"
   ],
   "metadata": {
    "collapsed": false,
    "pycharm": {
     "name": "#%%\n"
    }
   }
  },
  {
   "cell_type": "code",
   "execution_count": null,
   "outputs": [],
   "source": [
    "# Translational Matrix\n",
    "T = H[0:3, -1]\n",
    "T"
   ],
   "metadata": {
    "collapsed": false,
    "pycharm": {
     "name": "#%%\n"
    }
   }
  },
  {
   "cell_type": "code",
   "execution_count": null,
   "outputs": [],
   "source": [
    "# CALCULATING JACOBIAN MATRIX TO BE USED TO SOLVE THE INVERSE KINEMATIC\n",
    "# NUMERICAL APPROACH (DIFFERENTIATION) IS USED\n",
    "# Running this cell takes about 10 minutes\n",
    "# Maybe Jump by 2 cells, to load the Jacobian Function from File\n",
    "\n",
    "# Joint 1 Position vector and rotation axis\n",
    "H0 = eye(4)\n",
    "P0 = H0[0:3, -1]\n",
    "Z0 = H0[0:3, 0]\n",
    "H0"
   ],
   "metadata": {
    "collapsed": false,
    "pycharm": {
     "name": "#%%\n"
    }
   }
  },
  {
   "cell_type": "code",
   "execution_count": null,
   "outputs": [],
   "source": [
    "# Joint 2 Position vector and rotation axis\n",
    "H1 = trigsimp(Rx(q1)*Tx(l1))\n",
    "P1 = H1[0:3, -1]\n",
    "Z1 = H1[0:3, 1]\n",
    "H1"
   ],
   "metadata": {
    "collapsed": false,
    "pycharm": {
     "name": "#%%\n"
    }
   }
  },
  {
   "cell_type": "code",
   "execution_count": null,
   "outputs": [],
   "source": [
    "# Joint 3 Position vector and rotation axis\n",
    "H2 = trigsimp(Rx(q1)*Tx(l1)*Ry(q2)*Tz(l2))\n",
    "P2 = H2[0:3, -1]\n",
    "Z2 = H2[0:3, 2]\n",
    "H2"
   ],
   "metadata": {
    "collapsed": false,
    "pycharm": {
     "name": "#%%\n"
    }
   }
  },
  {
   "cell_type": "code",
   "execution_count": null,
   "outputs": [],
   "source": [
    "# Joint 4 Position vector and rotation axis\n",
    "H3 = trigsimp(Rx(q1)*Tx(l1)*Ry(q2)*Tz(l2)*Rz(q3)*Tz(l3))\n",
    "P3 = H3[0:3, -1]\n",
    "Z3 = H3[0:3, 0]\n",
    "H3"
   ],
   "metadata": {
    "collapsed": false,
    "pycharm": {
     "name": "#%%\n"
    }
   }
  },
  {
   "cell_type": "code",
   "execution_count": null,
   "outputs": [],
   "source": [
    "# Joint 5 Position vector and rotation axis\n",
    "H4 = trigsimp(Rx(q1)*Tx(l1)*Ry(q2)*Tz(l2)*Rz(q3)*Tz(l3)*Rx(q4)*Tz(l4))\n",
    "P4 = H4[0:3, -1]\n",
    "Z4 = H4[0:3, 2]\n",
    "H4"
   ],
   "metadata": {
    "collapsed": false,
    "pycharm": {
     "name": "#%%\n"
    }
   }
  },
  {
   "cell_type": "code",
   "execution_count": null,
   "outputs": [],
   "source": [
    "# End Effector Position vector and rotation axis\n",
    "H5 = trigsimp(Rx(q1)*Tx(l1)*Ry(q2)*Tz(l2)*Rz(q3)*Tz(l3)*Rx(q4)*Tz(l4)*Rz(q5)*Tz(l5))\n",
    "P5 = H5[0:3, -1]\n",
    "H5"
   ],
   "metadata": {
    "collapsed": false,
    "pycharm": {
     "name": "#%%\n"
    }
   }
  },
  {
   "cell_type": "code",
   "execution_count": null,
   "outputs": [],
   "source": [
    "J1 = trigsimp(Z0.cross(P5 - P0)).row_insert(len(Z0), Z0)\n",
    "J2 = trigsimp(Z1.cross(P5 - P1)).row_insert(len(Z1), Z1)\n",
    "J3 = trigsimp(Z2.cross(P5 - P2)).row_insert(len(Z2), Z2)\n",
    "J4 = trigsimp(Z3.cross(P5 - P3)).row_insert(len(Z3), Z3)\n",
    "J5 = trigsimp(Z4.cross(P5 - P4)).row_insert(len(Z4), Z4)"
   ],
   "metadata": {
    "collapsed": false,
    "pycharm": {
     "name": "#%%\n"
    }
   }
  },
  {
   "cell_type": "code",
   "execution_count": null,
   "outputs": [],
   "source": [
    "J_Function = J1.col_insert(1, J2)\\\n",
    "    .col_insert(2, J3)\\\n",
    "    .col_insert(3, J4)\\\n",
    "    .col_insert(4, J5)"
   ],
   "metadata": {
    "collapsed": false,
    "pycharm": {
     "name": "#%%\n"
    }
   }
  },
  {
   "cell_type": "code",
   "execution_count": null,
   "outputs": [],
   "source": [
    "J_Function"
   ],
   "metadata": {
    "collapsed": false,
    "pycharm": {
     "name": "#%%\n"
    }
   }
  },
  {
   "cell_type": "code",
   "execution_count": null,
   "outputs": [],
   "source": [
    "# USING NEWTON RAPHSON TO CALCULATE FOR THE INVERSE\n",
    "\n",
    "# Desired position and orientation\n",
    "Xd = [0, 0, 0, 0, 0, 0]\n",
    "\n",
    "# Current position and orientation\n",
    "Xc = [0, 0, 0, 0, 0, 0]\n",
    "\n",
    "# Initial Guess for parameters\n",
    "q1, q2, q3, q4, q5 = 0, 0, 0, 0, 0\n",
    "\n",
    "# Jacobian Function\n",
    "J_Func = lambdify([(q1, q2, q3, q4, q5)], J_Function, \"numpy\")\n",
    "\n",
    "# Transformation function\n",
    "T_Func = lambdify([(q1, q2, q3, q4, q5)], H5, \"numpy\")\n",
    "\n",
    "# Transformation matrix of desired position\n",
    "def D_Transformation(px, py, pz, r, p, y):\n",
    "    return Matrix([\n",
    "        [cos(y)*cos(p), cos(y)*sin(p)*sin(r)-sin(y)*cos(r), cos(y)*sin(p)*cos(r)+sin(y)*sin(r), px],\n",
    "        [sin(y)*cos(p), sin(y)*sin(p)*sin(r)+cos(y)*cos(r), sin(y)*sin(p)*cos(r)-cos(y)*sin(r), py],\n",
    "        [-sin(p), cos(p)*sin(r), cos(p)*cos(r), pz],\n",
    "        [0, 0, 0, 1]\n",
    "    ])\n",
    "\n",
    "def V_Func(T_Mat):\n",
    "    twist = H.subs([[T_Mat[0, -1], T_Mat[1, -1], T_Mat[2, -1], T_Mat[2,1], T_Mat[0,2], T_Mat[1,0]]])\n",
    "    return twist\n",
    "\n",
    "# List of parameters\n",
    "thetas = (q1, q2, q3, q4, q5)\n",
    "\n",
    "DT = D_Transformation(Xd[0], Xd[1], Xd[2], Xd[3], Xd[4], Xd[5])\n",
    "\n",
    "for _ in range(10):\n",
    "    thetas = thetas + linalg.pinv(J_Func(thetas)).dot(V_Func(linalg.inv(T_Func(thetas)).dot(DT)))\n",
    "    print(thetas)\n",
    "\n",
    "thetas"
   ],
   "metadata": {
    "collapsed": false,
    "pycharm": {
     "name": "#%%\n"
    }
   }
  },
  {
   "cell_type": "code",
   "execution_count": null,
   "outputs": [],
   "source": [],
   "metadata": {
    "collapsed": false,
    "pycharm": {
     "name": "#%%\n"
    }
   }
  }
 ],
 "metadata": {
  "kernelspec": {
   "display_name": "Python 3",
   "language": "python",
   "name": "python3"
  },
  "language_info": {
   "codemirror_mode": {
    "name": "ipython",
    "version": 2
   },
   "file_extension": ".py",
   "mimetype": "text/x-python",
   "name": "python",
   "nbconvert_exporter": "python",
   "pygments_lexer": "ipython2",
   "version": "2.7.6"
  }
 },
 "nbformat": 4,
 "nbformat_minor": 0
}